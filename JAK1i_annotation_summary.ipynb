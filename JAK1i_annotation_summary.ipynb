{
 "cells": [
  {
   "cell_type": "code",
   "execution_count": 36,
   "metadata": {
    "collapsed": false
   },
   "outputs": [
    {
     "name": "stdout",
     "output_type": "stream",
     "text": [
      "(192, 3)\n",
      "(196, 3)\n"
     ]
    }
   ],
   "source": [
    "# This script aims to summaries the manual annotation for video score of JAK1i project\n",
    "import numpy as np\n",
    "import pandas as pd\n",
    "\n",
    "manualTxtName1 = 'C:\\\\PostDoctorProjects\\\\VideoEEGData\\\\20150514_JD_Cam2_Cages1_2_combined\\\\20150514_SMO_mouse2_JP.txt'\n",
    "manualTxtName2 = 'C:\\\\PostDoctorProjects\\\\VideoEEGData\\\\20150514_JD_Cam1_Cages3_4_combined\\\\20150514_SMO_mouse4_JP.txt'\n",
    "\n",
    "manualTxtName3 = 'C:\\\\PostDoctorProjects\\\\VideoEEGData\\\\20150514_JD_Cam2_Cages1_2_combined\\\\20150514_JD_mouse2_JP.txt'\n",
    "manualTxtName4 = 'C:\\\\PostDoctorProjects\\\\VideoEEGData\\\\20150514_JD_Cam1_Cages3_4_combined\\\\20150514_JD_mouse4_JP.txt'\n",
    "\n",
    "\n",
    "df1 = pd.read_csv(manualTxtName1,header = None,sep = ' ')\n",
    "df1.columns = ['startTime','endTime','stage']\n",
    "df2 = pd.read_csv(manualTxtName2,header = None,sep = ' ')\n",
    "df2.columns = ['startTime','endTime','stage']\n",
    "df_smo = pd.concat([df1,df2])\n",
    "\n",
    "df1 = pd.read_csv(manualTxtName3,header = None,sep = ' ')\n",
    "df1.columns = ['startTime','endTime','stage']\n",
    "df2 = pd.read_csv(manualTxtName4,header = None,sep = ' ')\n",
    "df2.columns = ['startTime','endTime','stage']\n",
    "df_jd = pd.concat([df1,df2])\n",
    "\n",
    "print df_smo.shape\n",
    "print df_jd.shape"
   ]
  },
  {
   "cell_type": "code",
   "execution_count": null,
   "metadata": {
    "collapsed": true
   },
   "outputs": [],
   "source": []
  },
  {
   "cell_type": "code",
   "execution_count": null,
   "metadata": {
    "collapsed": true
   },
   "outputs": [],
   "source": []
  }
 ],
 "metadata": {
  "kernelspec": {
   "display_name": "Python 2",
   "language": "python",
   "name": "python2"
  },
  "language_info": {
   "codemirror_mode": {
    "name": "ipython",
    "version": 2
   },
   "file_extension": ".py",
   "mimetype": "text/x-python",
   "name": "python",
   "nbconvert_exporter": "python",
   "pygments_lexer": "ipython2",
   "version": "2.7.5"
  }
 },
 "nbformat": 4,
 "nbformat_minor": 0
}
