{
 "cells": [
  {
   "cell_type": "code",
   "execution_count": 19,
   "metadata": {
    "collapsed": false
   },
   "outputs": [],
   "source": [
    "# This script aims to merge two videos that two videos are displayed like subplot way\n",
    "import cv2\n",
    "import numpy as np\n",
    "\n",
    "videoName1 = 'C:\\\\PostDoctorProjects\\\\Report\\\\SeizureBehaviorVideoMachineLearning08042015\\\\JAK1Score_example.mp4'\n",
    "videoName2 = 'C:\\\\PostDoctorProjects\\\\Report\\\\SeizureBehaviorVideoMachineLearning08042015\\\\JAK1Score_example_features.mp4'\n",
    "outputVideoName = 'C:\\\\PostDoctorProjects\\\\Report\\\\SeizureBehaviorVideoMachineLearning08042015\\\\JAK1Score_MHI_DEMO.mp4'\n",
    "\n",
    "cam1 = cv2.VideoCapture(videoName1)\n",
    "video_len1 = cam1.get(cv2.cv.CV_CAP_PROP_FRAME_COUNT)\n",
    "ret, frame10 = cam1.read()\n",
    "hei1, wid1 = frame10.shape[:2]\n",
    "\n",
    "cam2 = cv2.VideoCapture(videoName2)\n",
    "video_len2 = cam2.get(cv2.cv.CV_CAP_PROP_FRAME_COUNT)\n",
    "ret, frame20 = cam2.read()\n",
    "hei2, wid2 = frame20.shape[:2]\n",
    "\n",
    "fourcc = cv2.cv.CV_FOURCC(*'XVID')\n",
    "fps = 15.0\n",
    "width = wid1 + wid2\n",
    "height = hei1\n",
    "\n",
    "video_len = min(video_len1,video_len2)\n",
    "videoOutput = cv2.VideoWriter(outputVideoName,fourcc, fps, (width,height))\n",
    "for ii in xrange(int(video_len)-2):\n",
    "    ret,frame10 = cam1.read()\n",
    "    #frame1 = cv2.cvtColor(frame10,cv2.COLOR_BGR2GRAY)\n",
    "    ret,frame20 = cam2.read()\n",
    "    #frame2 = cv2.cvtColor(frame20,cv2.COLOR_BGR2GRAY)\n",
    "    frame = np.concatenate((frame10, frame20), axis=1)\n",
    "    cv2.imshow('concatenated frame', frame)\n",
    "    if 0xff & cv2.waitKey(1) == 27:\n",
    "                break\n",
    "    videoOutput.write(frame)  \n",
    "    \n",
    "cam1.release()\n",
    "cam2.release()\n",
    "videoOutput.release()\n"
   ]
  }
 ],
 "metadata": {
  "kernelspec": {
   "display_name": "Python 2",
   "language": "python",
   "name": "python2"
  },
  "language_info": {
   "codemirror_mode": {
    "name": "ipython",
    "version": 2
   },
   "file_extension": ".py",
   "mimetype": "text/x-python",
   "name": "python",
   "nbconvert_exporter": "python",
   "pygments_lexer": "ipython2",
   "version": "2.7.5"
  }
 },
 "nbformat": 4,
 "nbformat_minor": 0
}
