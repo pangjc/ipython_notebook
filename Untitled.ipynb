{
 "cells": [
  {
   "cell_type": "code",
   "execution_count": 3,
   "metadata": {
    "collapsed": false
   },
   "outputs": [],
   "source": [
    "import numpy as np\n",
    "import cv2\n",
    "import csv\n",
    "import os\n",
    "import pandas as pd\n",
    "from scipy.signal import medfilt\n",
    "\n",
    "MHI_DURATION = 1\n",
    "MAX_TIME_DELTA = 0.5\n",
    "MIN_TIME_DELTA = 0.05\n",
    "THRESH_VALUE = 32\n",
    "\n",
    "def video_results_annotation(videoName,featureCSVFileName, activities,df): \n",
    "    cam = cv2.VideoCapture(videoName)\n",
    "    video_len = cam.get(cv2.cv.CV_CAP_PROP_FRAME_COUNT)\n",
    "    ret, frame = cam.read()\n",
    "    h, w = frame.shape[:2]\n",
    "    prev_frame = frame.copy()\n",
    "    motion_history = np.zeros((h, w), np.float32)\n",
    "    hsv = np.zeros((h, w, 3), np.uint8)\n",
    "    hsv[:,:,1] = 255\n",
    "    \n",
    "    \n",
    "    fps = 15.0\n",
    "    fourcc = cv2.cv.CV_FOURCC(*'XVID')\n",
    "\n",
    "    outputVideoName = \"shank2activityRecognitionResults.avi\";\n",
    "    VideoOutput = cv2.VideoWriter(outputVideoName,fourcc, fps, (w,h))   \n",
    "    \n",
    "    tag = medfilt(df['tag'],9)\n",
    "    tag = medfilt(tag,9)\n",
    "    df['SmoothTag'] = tag\n",
    "    df.to_csv(featureCSVFileName,index = False)\n",
    "    \n",
    "    ii = 0        \n",
    "    \n",
    "    #cam.set(cv2.cv.CV_CAP_PROP_POS_FRAMES,ii)\n",
    "     \n",
    "    while (ii < video_len-1):\n",
    "    #while (ii<1000):\n",
    "        ii += 1\n",
    "        ret, frame = cam.read()\n",
    "        activity = activities[int(tag[ii])]  \n",
    "                                   \n",
    "        cv2.putText(frame, activity, (15, 35),\n",
    "        cv2.FONT_HERSHEY_SIMPLEX, 1.0, (0,0,255))\n",
    "        cv2.imshow('Video',frame)\n",
    "        VideoOutput.write(frame)\n",
    "        \n",
    "        if 0xff & cv2.waitKey(1) == 27:\n",
    "            break\n",
    "            \n",
    "    cam.release()\n",
    "    cv2.destroyAllWindows()\n",
    " "
   ]
  },
  {
   "cell_type": "code",
   "execution_count": 13,
   "metadata": {
    "collapsed": false
   },
   "outputs": [
    {
     "name": "stdout",
     "output_type": "stream",
     "text": [
      "(255, 0, 0)\n"
     ]
    }
   ],
   "source": [
    "\n",
    "activities = ['0','1-3','4-6']\n",
    "\n",
    "featureCSVFileName = 'C:\\\\PostDoctorProjects\\\\VideoEEGData\\\\20150514_JD_Cam2_Cages1_2_combined\\\\JD_Cam2_20150514Cages1_2_features_predicted.csv'\n",
    "df = pd.read_csv(featureCSVFileName)\n",
    "\n",
    "testVideoName = 'C:\\PostDoctorProjects\\VideoEEGData\\20150514_JD_Cam2_Cages1_2_combined\\\\JD_Cam2_20150514Cages1_2.avi'    \n",
    "#video_results_annotation(testVideoName,featureCSVFileName, activities,df)\n",
    "df.head(5)\n",
    "#nrow,ncol = df.shape\n",
    "#startFrame = df.loc[0,'iframe']\n",
    "#endFrame = df.loc[nrow-1,'iframe']\n",
    "annotationColor = [(0,0,255),(255,0,0),(0,255,0)]     \n",
    "print annotationColor[1]"
   ]
  },
  {
   "cell_type": "code",
   "execution_count": null,
   "metadata": {
    "collapsed": true
   },
   "outputs": [],
   "source": []
  }
 ],
 "metadata": {
  "kernelspec": {
   "display_name": "Python 2",
   "language": "python",
   "name": "python2"
  },
  "language_info": {
   "codemirror_mode": {
    "name": "ipython",
    "version": 2
   },
   "file_extension": ".py",
   "mimetype": "text/x-python",
   "name": "python",
   "nbconvert_exporter": "python",
   "pygments_lexer": "ipython2",
   "version": "2.7.5"
  }
 },
 "nbformat": 4,
 "nbformat_minor": 0
}
