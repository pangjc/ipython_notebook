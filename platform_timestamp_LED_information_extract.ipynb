{
 "cells": [
  {
   "cell_type": "code",
   "execution_count": 98,
   "metadata": {
    "collapsed": false
   },
   "outputs": [
    {
     "name": "stdout",
     "output_type": "stream",
     "text": [
      "640 360 1008248.0\n",
      "1000 out of 1008248.0\n",
      "2000 out of 1008248.0\n",
      "3000 out of 1008248.0\n",
      "4000 out of 1008248.0\n",
      "5000 out of 1008248.0\n",
      "6000 out of 1008248.0\n",
      "7000 out of 1008248.0\n",
      "8000 out of 1008248.0\n",
      "9000 out of 1008248.0\n",
      "10000 out of 1008248.0\n",
      "total time: 19.5429999828\n"
     ]
    },
    {
     "name": "stderr",
     "output_type": "stream",
     "text": [
      "C:\\Python27\\lib\\site-packages\\ipykernel\\__main__.py:28: DeprecationWarning: using a non-integer number instead of an integer will result in an error in the future\n",
      "C:\\Python27\\lib\\site-packages\\ipykernel\\__main__.py:29: DeprecationWarning: using a non-integer number instead of an integer will result in an error in the future\n"
     ]
    }
   ],
   "source": [
    "import numpy as np\n",
    "import cv2\n",
    "import matplotlib.pyplot as plt\n",
    "import sys\n",
    "import time\n",
    "import scipy.io as io\n",
    "\n",
    "videoName = 'C:\\PostDoctorProjects\\VideoEEGData\\overnight827_828\\Sync_stitched\\Sync_2015-08-27_15-06-42_600.avi'\n",
    "\n",
    "cam = cv2.VideoCapture(videoName)\n",
    "video_len = cam.get(cv2.cv.CV_CAP_PROP_FRAME_COUNT)\n",
    "ret, frame0 = cam.read()\n",
    "hei, wid = frame0.shape[:2]\n",
    "\n",
    "frame = cv2.cvtColor(frame0,cv2.COLOR_BGR2GRAY)\n",
    "\n",
    "print wid, hei, video_len\n",
    "\n",
    "frame = cv2.GaussianBlur(frame,(3,3),0)  \n",
    "\n",
    "roi10 = frame[3:30,220:245]\n",
    "roi10 = cv2.Canny(roi10,15,20)\n",
    "\n",
    "roi20 = frame[50:120,280:350]\n",
    "roi20 = cv2.Canny(roi20,15,20)\n",
    "\n",
    "kk = 0\n",
    "diffInt1 = np.zeros(video_len-1)\n",
    "diffInt2 = np.zeros(video_len-1)\n",
    "\n",
    "tic = time.time()\n",
    "for iFrame in xrange(10000):#xrange(int(video_len)):\n",
    "\n",
    "    ret, frame1 = cam.read()\n",
    "    frame1 = cv2.GaussianBlur(frame1,(3,3),0) \n",
    "    roi11 = frame1[3:30,220:245]\n",
    "    roi11 = cv2.Canny(roi11,15,20)\n",
    "\n",
    "    roi21 = frame1[50:120,280:350]\n",
    "    roi21 = cv2.Canny(roi21,15,20)\n",
    "    \n",
    "    diff1 = np.matrix(np.absolute(np.subtract(roi11,roi10)))\n",
    "    diffInt1[kk] = diff1.sum()   \n",
    "    \n",
    "    diff2 = np.matrix(np.absolute(np.subtract(roi21,roi20)))\n",
    "    diffInt2[kk] = diff2.sum() \n",
    "    \n",
    "    roi10 = roi11\n",
    "    roi20 = roi21\n",
    "    \n",
    "    kk = kk + 1 \n",
    "    if (kk%1000 == 0): \n",
    "        print str(kk) + \" out of \" + str(video_len)\n",
    "    '''\n",
    "    plt.subplot(211)\n",
    "    plt.imshow(roi10)\n",
    "    plt.subplot(212)\n",
    "    plt.imshow(roi20)\n",
    "    plt.show()\n",
    "    '''  \n",
    "cam.release()\n",
    "toc = time.time()\n",
    "\n",
    "print \"total time: \" + str(toc-tic)\n",
    "plt.subplot(211)\n",
    "plt.plot(diffInt1[0:kk-1])\n",
    "plt.subplot(212)\n",
    "plt.plot(diffInt2[0:kk-1])\n",
    "plt.show()\n",
    "\n"
   ]
  },
  {
   "cell_type": "code",
   "execution_count": 99,
   "metadata": {
    "collapsed": false
   },
   "outputs": [],
   "source": [
    "SynVideo_LED = {}\n",
    "SynVideo_LED['videoTimeStamp'] = diffInt1\n",
    "SynVideo_LED['LED'] = diffInt2\n",
    "SynVideo_LED['Name'] = videoName\n",
    "io.savemat('C:\\PostDoctorProjects\\VideoEEGData\\overnight827_828\\Sync_stitched\\SynVideo_LED0827',SynVideo_LED)"
   ]
  },
  {
   "cell_type": "code",
   "execution_count": null,
   "metadata": {
    "collapsed": true
   },
   "outputs": [],
   "source": []
  }
 ],
 "metadata": {
  "kernelspec": {
   "display_name": "Python 2",
   "language": "python",
   "name": "python2"
  },
  "language_info": {
   "codemirror_mode": {
    "name": "ipython",
    "version": 2
   },
   "file_extension": ".py",
   "mimetype": "text/x-python",
   "name": "python",
   "nbconvert_exporter": "python",
   "pygments_lexer": "ipython2",
   "version": "2.7.5"
  }
 },
 "nbformat": 4,
 "nbformat_minor": 0
}
